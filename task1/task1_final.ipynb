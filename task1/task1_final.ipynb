{
 "cells": [
  {
   "cell_type": "markdown",
   "metadata": {
    "colab_type": "text",
    "id": "1-3E0gnXNHUZ"
   },
   "source": [
    "# *Task 1 (CV*)"
   ]
  },
  {
   "cell_type": "code",
   "execution_count": 1,
   "metadata": {
    "colab": {},
    "colab_type": "code",
    "id": "2wNSqO0GkR40"
   },
   "outputs": [],
   "source": [
    "# ### For Colab Only ###\n",
    "# !apt-get install openjdk-8-jdk-headless -qq > /dev/null\n",
    "# !wget -q https://downloads.apache.org/spark/spark-2.4.5/spark-2.4.5-bin-hadoop2.7.tgz\n",
    "# !tar xf spark-2.4.5-bin-hadoop2.7.tgz\n",
    "# !pip install -q findspark\n",
    "\n",
    "# import os\n",
    "# os.environ[\"JAVA_HOME\"] = \"/usr/lib/jvm/java-8-openjdk-amd64\"\n",
    "# os.environ[\"SPARK_HOME\"] = \"/content/spark-2.4.5-bin-hadoop2.7\""
   ]
  },
  {
   "cell_type": "code",
   "execution_count": 2,
   "metadata": {
    "colab": {},
    "colab_type": "code",
    "id": "GY5Rsqm-kpYI"
   },
   "outputs": [],
   "source": [
    "# ### For Colab Only ###\n",
    "# from pydrive.auth import GoogleAuth\n",
    "# from pydrive.drive import GoogleDrive\n",
    "# from google.colab import auth\n",
    "# from oauth2client.client import GoogleCredentials\n",
    "\n",
    "# auth.authenticate_user()\n",
    "# gauth = GoogleAuth()\n",
    "# gauth.credentials = GoogleCredentials.get_application_default()\n",
    "# drive = GoogleDrive(gauth)"
   ]
  },
  {
   "cell_type": "code",
   "execution_count": 3,
   "metadata": {
    "colab": {},
    "colab_type": "code",
    "id": "CAOq7t4Mkvvt"
   },
   "outputs": [],
   "source": [
    "# ### For Colab Only ###\n",
    "# trainFile = drive.CreateFile({'id':\"1axe3asDoDNJGQlv-iA9wp9laPtybEGzX\"})\n",
    "# trainFile.GetContentFile('train.csv')\n",
    "# testFile = drive.CreateFile({'id':\"1521WHxxG3SJHiPNknvuMcjepyoVY4X39\"})\n",
    "# testFile.GetContentFile('test.csv')"
   ]
  },
  {
   "cell_type": "code",
   "execution_count": 4,
   "metadata": {
    "colab": {},
    "colab_type": "code",
    "id": "y0-hmxcokR46"
   },
   "outputs": [],
   "source": [
    "import findspark\n",
    "# findspark.init()\n",
    "findspark.init('/home/cse587/spark-2.4.0-bin-hadoop2.7') ## SPARK Initialization IN VM\n",
    "import pyspark\n",
    "from pyspark import SparkContext\n",
    "sc = SparkContext()\n",
    "from pyspark.sql import *\n",
    "spark = SparkSession.builder.appName(\"Genre Prediction\").config(\"spark.driver.memory\", \"15g\").getOrCreate()"
   ]
  },
  {
   "cell_type": "code",
   "execution_count": 5,
   "metadata": {
    "colab": {},
    "colab_type": "code",
    "id": "lewyO5cykR5Z"
   },
   "outputs": [],
   "source": [
    "import pandas as pd  \n",
    "data = pd.read_csv(\"train.csv\") \n",
    "# data.head()\n",
    "test = pd.read_csv(\"test.csv\") \n",
    "# test.head()"
   ]
  },
  {
   "cell_type": "code",
   "execution_count": 6,
   "metadata": {
    "colab": {},
    "colab_type": "code",
    "id": "sSV6EgcdkR5g"
   },
   "outputs": [],
   "source": [
    "sqlCtx = SQLContext(sc)\n",
    "df = spark.createDataFrame(data)\n",
    "test_df = spark.createDataFrame(test)"
   ]
  },
  {
   "cell_type": "code",
   "execution_count": 7,
   "metadata": {
    "colab": {
     "base_uri": "https://localhost:8080/",
     "height": 238
    },
    "colab_type": "code",
    "id": "4sKZ1OIkkR5l",
    "outputId": "1095eb2b-6e45-479c-d1ea-eee76ae2323d"
   },
   "outputs": [
    {
     "name": "stdout",
     "output_type": "stream",
     "text": [
      "root\n",
      " |-- movie_id: long (nullable = true)\n",
      " |-- movie_name: string (nullable = true)\n",
      " |-- plot: string (nullable = true)\n",
      " |-- genre: string (nullable = true)\n",
      "\n",
      "+--------+----------+--------------------+--------------------+\n",
      "|movie_id|movie_name|                plot|               genre|\n",
      "+--------+----------+--------------------+--------------------+\n",
      "|23890098|Taxi Blues|Shlykov, a hard-w...|['World cinema', ...|\n",
      "+--------+----------+--------------------+--------------------+\n",
      "only showing top 1 row\n",
      "\n"
     ]
    }
   ],
   "source": [
    "df.printSchema()\n",
    "df.show(1)\n",
    "# df.show(1, truncate = False)"
   ]
  },
  {
   "cell_type": "code",
   "execution_count": 8,
   "metadata": {
    "colab": {},
    "colab_type": "code",
    "id": "WPs2iR1TkR5r"
   },
   "outputs": [],
   "source": [
    "from pyspark.sql import SQLContext\n",
    "sqlContext = SQLContext(sc)\n",
    "\n",
    "from pyspark.sql.functions import udf, col\n",
    "from pyspark.sql.types import *\n",
    "from ast import literal_eval\n",
    "import json\n",
    "\n",
    "# UDF to parse array stored as string using JSON\n",
    "def parse_array_from_string(x):\n",
    "    l = []\n",
    "    x = x.replace('[', '') \n",
    "    x = x.replace(']', '') \n",
    "    x = x.replace(\"'\", '') \n",
    "    res = x.split(',')\n",
    "    for word in res:\n",
    "        l.append(word.strip())\n",
    "    return l\n",
    "\n",
    "retrieve_array = udf(parse_array_from_string, ArrayType(StringType()))\n",
    "\n",
    "def lower_case(x):\n",
    "    res = []\n",
    "    for x_ in x:\n",
    "        res.append(x_.lower())\n",
    "    return res\n",
    "\n",
    "convert_to_lower = udf(lower_case, ArrayType(StringType()))\n",
    "\n",
    "df = df.withColumn(\"label\", convert_to_lower(retrieve_array(col(\"genre\"))))"
   ]
  },
  {
   "cell_type": "code",
   "execution_count": 9,
   "metadata": {
    "colab": {
     "base_uri": "https://localhost:8080/",
     "height": 357
    },
    "colab_type": "code",
    "id": "zUcTcb4ikR5w",
    "outputId": "d848a1ba-290c-45af-b0e7-8815556f07d2"
   },
   "outputs": [
    {
     "name": "stdout",
     "output_type": "stream",
     "text": [
      "root\n",
      " |-- movie_id: long (nullable = true)\n",
      " |-- movie_name: string (nullable = true)\n",
      " |-- plot: string (nullable = true)\n",
      "\n",
      "root\n",
      " |-- movie_id: long (nullable = true)\n",
      " |-- movie_name: string (nullable = true)\n",
      " |-- plot: string (nullable = true)\n",
      " |-- genre: string (nullable = true)\n",
      " |-- label: array (nullable = true)\n",
      " |    |-- element: string (containsNull = true)\n",
      "\n",
      "+--------+----------+--------------------+--------------------+--------------------+\n",
      "|movie_id|movie_name|                plot|               genre|               label|\n",
      "+--------+----------+--------------------+--------------------+--------------------+\n",
      "|23890098|Taxi Blues|Shlykov, a hard-w...|['World cinema', ...|[world cinema, dr...|\n",
      "+--------+----------+--------------------+--------------------+--------------------+\n",
      "only showing top 1 row\n",
      "\n"
     ]
    }
   ],
   "source": [
    "test_df.printSchema()\n",
    "df.printSchema()\n",
    "df.show(1)\n",
    "# df.show(1, truncate= False)"
   ]
  },
  {
   "cell_type": "code",
   "execution_count": 10,
   "metadata": {
    "colab": {},
    "colab_type": "code",
    "id": "i-1FVxZikR52"
   },
   "outputs": [],
   "source": [
    "from pyspark.sql.functions import udf\n",
    "from pyspark.sql.types import *\n",
    "#df1 = df\n",
    "#word1 = 'work'\n",
    "def makingLabelsForLabelx(val):\n",
    "    for word in val:\n",
    "        if word1 == word:\n",
    "            return 1\n",
    "    return 0\n",
    "genres = ['drama','comedy','romance film','thriller','action','world cinema','crime fiction','horror','black-and-white','indie','action/adventure',\n",
    "'adventure','family film','short film','romantic drama','animation','musical','science fiction','mystery','romantic comedy']\n",
    "\n",
    "for word in genres:\n",
    "    word1 = word\n",
    "    labeling = udf(makingLabelsForLabelx, IntegerType())\n",
    "    df = df.withColumn(word, labeling(\"label\"))"
   ]
  },
  {
   "cell_type": "code",
   "execution_count": 11,
   "metadata": {
    "colab": {
     "base_uri": "https://localhost:8080/",
     "height": 156
    },
    "colab_type": "code",
    "id": "nhOgtiNmkR54",
    "outputId": "b6e75ab4-68e5-4ad6-8b09-66ab3c16318f"
   },
   "outputs": [
    {
     "name": "stdout",
     "output_type": "stream",
     "text": [
      "+--------+----------+--------------------+--------------------+--------------------+-----+------+------------+--------+------+------------+-------------+------+---------------+-----+----------------+---------+-----------+----------+--------------+---------+-------+---------------+-------+---------------+\n",
      "|movie_id|movie_name|                plot|               genre|               label|drama|comedy|romance film|thriller|action|world cinema|crime fiction|horror|black-and-white|indie|action/adventure|adventure|family film|short film|romantic drama|animation|musical|science fiction|mystery|romantic comedy|\n",
      "+--------+----------+--------------------+--------------------+--------------------+-----+------+------------+--------+------+------------+-------------+------+---------------+-----+----------------+---------+-----------+----------+--------------+---------+-------+---------------+-------+---------------+\n",
      "|23890098|Taxi Blues|Shlykov, a hard-w...|['World cinema', ...|[world cinema, dr...|    1|     0|           0|       0|     0|           1|            0|     0|              0|    0|               0|        0|          0|         0|             0|        0|      0|              0|      0|              0|\n",
      "+--------+----------+--------------------+--------------------+--------------------+-----+------+------------+--------+------+------------+-------------+------+---------------+-----+----------------+---------+-----------+----------+--------------+---------+-------+---------------+-------+---------------+\n",
      "only showing top 1 row\n",
      "\n"
     ]
    }
   ],
   "source": [
    "df.show(1);"
   ]
  },
  {
   "cell_type": "code",
   "execution_count": 12,
   "metadata": {
    "colab": {},
    "colab_type": "code",
    "id": "3xslMNHKkR59"
   },
   "outputs": [],
   "source": [
    "from pyspark.ml.feature import Tokenizer, RegexTokenizer\n",
    "from pyspark.sql.functions import col, udf\n",
    "from pyspark.sql.types import IntegerType\n",
    "from pyspark.sql.functions import regexp_replace\n",
    "from pyspark.ml.feature import StopWordsRemover\n",
    "from pyspark.sql.functions import lower, col\n",
    "\n",
    "# Tokenize text\n",
    "tokenizer = Tokenizer(inputCol='plot', outputCol='words_token')\n",
    "df = tokenizer.transform(df)\n",
    "test_df = tokenizer.transform(test_df)\n",
    "\n",
    "# Remove stop words\n",
    "remover = StopWordsRemover(inputCol='words_token', outputCol='words_clean')\n",
    "df = remover.transform(df)\n",
    "test_df = remover.transform(test_df)"
   ]
  },
  {
   "cell_type": "code",
   "execution_count": 13,
   "metadata": {
    "colab": {},
    "colab_type": "code",
    "id": "arbFEe8TkR6E"
   },
   "outputs": [
    {
     "name": "stdout",
     "output_type": "stream",
     "text": [
      "count-vectorizer-model exists\n",
      "Transforming data\n",
      "Transforming data Done\n"
     ]
    }
   ],
   "source": [
    "import pathlib\n",
    "model_path1 = \"models/count-vectorizer-model\"\n",
    "file1 = pathlib.Path(model_path1)\n",
    "\n",
    "# Fit a CountVectorizerModel from the corpus\n",
    "from pyspark.ml.feature import CountVectorizer, CountVectorizerModel\n",
    "\n",
    "if file1.exists():\n",
    "    print(\"count-vectorizer-model exists\")\n",
    "    model = CountVectorizerModel.load(model_path1)\n",
    "else:\n",
    "    print(\"count-vectorizer-model does not exist... Training Model\")\n",
    "    cv = CountVectorizer(inputCol=\"words_clean\", outputCol=\"features\")\n",
    "    model = cv.fit(df)\n",
    "    print(\"Saving Trained Model\")\n",
    "    model.save(model_path1)\n",
    "\n",
    "print(\"Transforming data\")\n",
    "rescaledData = model.transform(df)\n",
    "test_rescaledData = model.transform(test_df)\n",
    "print(\"Transforming data Done\")\n",
    "\n",
    "\n",
    "# featurizedData.show(2)"
   ]
  },
  {
   "cell_type": "code",
   "execution_count": 14,
   "metadata": {
    "colab": {},
    "colab_type": "code",
    "id": "143EohG0kR6P"
   },
   "outputs": [],
   "source": [
    "trainDF1 = rescaledData.select(col(\"drama\").alias(\"label\"), \"features\")\n",
    "trainDF2 = rescaledData.select(col(\"comedy\").alias(\"label\"), \"features\")\n",
    "trainDF3 = rescaledData.select(col(\"romance film\").alias(\"label\"), \"features\")\n",
    "trainDF4 = rescaledData.select(col(\"thriller\").alias(\"label\"), \"features\")\n",
    "trainDF5 = rescaledData.select(col(\"action\").alias(\"label\"), \"features\")\n",
    "trainDF6 = rescaledData.select(col(\"world cinema\").alias(\"label\"), \"features\")\n",
    "trainDF7 = rescaledData.select(col(\"crime fiction\").alias(\"label\"), \"features\")\n",
    "trainDF8 = rescaledData.select(col(\"horror\").alias(\"label\"), \"features\")\n",
    "trainDF9 = rescaledData.select(col(\"black-and-white\").alias(\"label\"), \"features\")\n",
    "trainDF10 = rescaledData.select(col(\"indie\").alias(\"label\"), \"features\")\n",
    "trainDF11 = rescaledData.select(col(\"action/adventure\").alias(\"label\"), \"features\")\n",
    "trainDF12 = rescaledData.select(col(\"adventure\").alias(\"label\"), \"features\")\n",
    "trainDF13 = rescaledData.select(col(\"family film\").alias(\"label\"), \"features\")\n",
    "trainDF14 = rescaledData.select(col(\"short film\").alias(\"label\"), \"features\")\n",
    "trainDF15 = rescaledData.select(col(\"romantic drama\").alias(\"label\"), \"features\")\n",
    "trainDF16 = rescaledData.select(col(\"animation\").alias(\"label\"), \"features\")\n",
    "trainDF17 = rescaledData.select(col(\"musical\").alias(\"label\"), \"features\")\n",
    "trainDF18 = rescaledData.select(col(\"science fiction\").alias(\"label\"), \"features\")\n",
    "trainDF19 = rescaledData.select(col(\"mystery\").alias(\"label\"), \"features\")\n",
    "trainDF20 = rescaledData.select(col(\"romantic comedy\").alias(\"label\"), \"features\")"
   ]
  },
  {
   "cell_type": "code",
   "execution_count": 15,
   "metadata": {
    "colab": {},
    "colab_type": "code",
    "id": "vhqx5S69kR6S"
   },
   "outputs": [],
   "source": [
    "testDF = test_rescaledData.select(\"features\")"
   ]
  },
  {
   "cell_type": "code",
   "execution_count": 16,
   "metadata": {
    "colab": {},
    "colab_type": "code",
    "id": "96iUoQ7GkR6U"
   },
   "outputs": [],
   "source": [
    "from pyspark.ml.classification import LogisticRegression, LogisticRegressionModel\n",
    "from pyspark.ml.evaluation import MulticlassClassificationEvaluator\n",
    "\n",
    "lrm = LogisticRegression()"
   ]
  },
  {
   "cell_type": "code",
   "execution_count": 17,
   "metadata": {
    "colab": {},
    "colab_type": "code",
    "id": "Sgc6-uRYkR6W"
   },
   "outputs": [
    {
     "name": "stdout",
     "output_type": "stream",
     "text": [
      "LR-model Exist\n"
     ]
    }
   ],
   "source": [
    "model_path3 = \"models/lr-model1\"\n",
    "file3 = pathlib.Path(model_path3)\n",
    "if file3.exists():\n",
    "    print(\"LR-model Exist\")\n",
    "    model1 = LogisticRegressionModel.load(model_path3)\n",
    "else:\n",
    "    print(\"LR-model Doesnot Exist...Training Model\")\n",
    "    model1 = lrm.fit(trainDF1)\n",
    "    print(\"Saving Trained Model\")\n",
    "    model1.save(model_path3)\n",
    "    \n",
    "result1 = model1.transform(testDF)"
   ]
  },
  {
   "cell_type": "code",
   "execution_count": 18,
   "metadata": {
    "colab": {},
    "colab_type": "code",
    "id": "k2efAbpdkR6b"
   },
   "outputs": [
    {
     "name": "stdout",
     "output_type": "stream",
     "text": [
      "LR-model Exist\n"
     ]
    }
   ],
   "source": [
    "model_path4 = \"models/lr-model2\"\n",
    "file4 = pathlib.Path(model_path4)\n",
    "if file4.exists():\n",
    "    print(\"LR-model Exist\")\n",
    "    model2 = LogisticRegressionModel.load(model_path4)\n",
    "else:\n",
    "    print(\"LR-model Doesnot Exist...Training Model\")\n",
    "    model2 = lrm.fit(trainDF2)\n",
    "    print(\"Saving Trained Model\")\n",
    "    model2.save(model_path4)\n",
    "    \n",
    "result2 = model2.transform(testDF)"
   ]
  },
  {
   "cell_type": "code",
   "execution_count": 19,
   "metadata": {
    "colab": {},
    "colab_type": "code",
    "id": "As83UxJskR6f"
   },
   "outputs": [
    {
     "name": "stdout",
     "output_type": "stream",
     "text": [
      "LR-model Exist\n"
     ]
    }
   ],
   "source": [
    "model_path5 = \"models/lr-model3\"\n",
    "file5 = pathlib.Path(model_path5)\n",
    "if file5.exists():\n",
    "    print(\"LR-model Exist\")\n",
    "    model3 = LogisticRegressionModel.load(model_path5)\n",
    "else:\n",
    "    print(\"LR-model Doesnot Exist...Training Model\")\n",
    "    model3 = lrm.fit(trainDF3)\n",
    "    print(\"Saving Trained Model\")\n",
    "    model3.save(model_path5)\n",
    "    \n",
    "result3 = model3.transform(testDF)"
   ]
  },
  {
   "cell_type": "code",
   "execution_count": 20,
   "metadata": {
    "colab": {},
    "colab_type": "code",
    "id": "7vO65CL1kR6j"
   },
   "outputs": [
    {
     "name": "stdout",
     "output_type": "stream",
     "text": [
      "LR-model Exist\n"
     ]
    }
   ],
   "source": [
    "model_path6 = \"models/lr-model4\"\n",
    "file6 = pathlib.Path(model_path6)\n",
    "if file6.exists():\n",
    "    print(\"LR-model Exist\")\n",
    "    model4 = LogisticRegressionModel.load(model_path6)\n",
    "else:\n",
    "    print(\"LR-model Doesnot Exist...Training Model\")\n",
    "    model4 = lrm.fit(trainDF4)\n",
    "    print(\"Saving Trained Model\")\n",
    "    model4.save(model_path6)\n",
    "    \n",
    "result4 = model4.transform(testDF)"
   ]
  },
  {
   "cell_type": "code",
   "execution_count": 21,
   "metadata": {
    "colab": {},
    "colab_type": "code",
    "id": "ROGxlnD-kR6n"
   },
   "outputs": [
    {
     "name": "stdout",
     "output_type": "stream",
     "text": [
      "LR-model Exist\n"
     ]
    }
   ],
   "source": [
    "model_path7 = \"models/lr-model5\"\n",
    "file7 = pathlib.Path(model_path7)\n",
    "if file7.exists():\n",
    "    print(\"LR-model Exist\")\n",
    "    model5 = LogisticRegressionModel.load(model_path7)\n",
    "else:\n",
    "    print(\"LR-model Doesnot Exist...Training Model\")\n",
    "    model5 = lrm.fit(trainDF5)\n",
    "    print(\"Saving Trained Model\")\n",
    "    model5.save(model_path7)\n",
    "    \n",
    "result5 = model5.transform(testDF)"
   ]
  },
  {
   "cell_type": "code",
   "execution_count": 22,
   "metadata": {
    "colab": {},
    "colab_type": "code",
    "id": "_WeDgyI4kR6t"
   },
   "outputs": [
    {
     "name": "stdout",
     "output_type": "stream",
     "text": [
      "LR-model Exist\n"
     ]
    }
   ],
   "source": [
    "model_path8 = \"models/lr-model6\"\n",
    "file8 = pathlib.Path(model_path8)\n",
    "if file8.exists():\n",
    "    print(\"LR-model Exist\")\n",
    "    model6 = LogisticRegressionModel.load(model_path8)\n",
    "else:\n",
    "    print(\"LR-model Doesnot Exist...Training Model\")\n",
    "    model6 = lrm.fit(trainDF6)\n",
    "    print(\"Saving Trained Model\")\n",
    "    model6.save(model_path8)\n",
    "    \n",
    "result6 = model6.transform(testDF)"
   ]
  },
  {
   "cell_type": "code",
   "execution_count": 23,
   "metadata": {
    "colab": {},
    "colab_type": "code",
    "id": "KHZwCPs1kR6z"
   },
   "outputs": [
    {
     "name": "stdout",
     "output_type": "stream",
     "text": [
      "LR-model Exist\n"
     ]
    }
   ],
   "source": [
    "model_path9 = \"models/lr-model7\"\n",
    "file9 = pathlib.Path(model_path9)\n",
    "if file9.exists():\n",
    "    print(\"LR-model Exist\")\n",
    "    model7 = LogisticRegressionModel.load(model_path9)\n",
    "else:\n",
    "    print(\"LR-model Doesnot Exist...Training Model\")\n",
    "    model7 = lrm.fit(trainDF7)\n",
    "    print(\"Saving Trained Model\")\n",
    "    model7.save(model_path9)\n",
    "    \n",
    "result7 = model7.transform(testDF)"
   ]
  },
  {
   "cell_type": "code",
   "execution_count": 24,
   "metadata": {
    "colab": {},
    "colab_type": "code",
    "id": "3d4I8sZHkR63"
   },
   "outputs": [
    {
     "name": "stdout",
     "output_type": "stream",
     "text": [
      "LR-model Exist\n"
     ]
    }
   ],
   "source": [
    "model_path10 = \"models/lr-model8\"\n",
    "file10 = pathlib.Path(model_path10)\n",
    "if file10.exists():\n",
    "    print(\"LR-model Exist\")\n",
    "    model8 = LogisticRegressionModel.load(model_path10)\n",
    "else:\n",
    "    print(\"LR-model Doesnot Exist...Training Model\")\n",
    "    model8 = lrm.fit(trainDF8)\n",
    "    print(\"Saving Trained Model\")\n",
    "    model8.save(model_path10)\n",
    "    \n",
    "result8 = model8.transform(testDF)"
   ]
  },
  {
   "cell_type": "code",
   "execution_count": 25,
   "metadata": {
    "colab": {},
    "colab_type": "code",
    "id": "XQyTLl_ekR69"
   },
   "outputs": [
    {
     "name": "stdout",
     "output_type": "stream",
     "text": [
      "LR-model Exist\n"
     ]
    }
   ],
   "source": [
    "model_path11 = \"models/lr-model9\"\n",
    "file11 = pathlib.Path(model_path11)\n",
    "if file11.exists():\n",
    "    print(\"LR-model Exist\")\n",
    "    model9 = LogisticRegressionModel.load(model_path11)\n",
    "else:\n",
    "    print(\"LR-model Doesnot Exist...Training Model\")\n",
    "    model9 = lrm.fit(trainDF9)\n",
    "    print(\"Saving Trained Model\")\n",
    "    model9.save(model_path11)\n",
    "    \n",
    "result9 = model9.transform(testDF)"
   ]
  },
  {
   "cell_type": "code",
   "execution_count": 26,
   "metadata": {
    "colab": {},
    "colab_type": "code",
    "id": "VO7HdSeSkR7A"
   },
   "outputs": [
    {
     "name": "stdout",
     "output_type": "stream",
     "text": [
      "LR-model Exist\n"
     ]
    }
   ],
   "source": [
    "model_path12 = \"models/lr-model10\"\n",
    "file12 = pathlib.Path(model_path12)\n",
    "if file12.exists():\n",
    "    print(\"LR-model Exist\")\n",
    "    model10 = LogisticRegressionModel.load(model_path12)\n",
    "else:\n",
    "    print(\"LR-model Doesnot Exist...Training Model\")\n",
    "    model10 = lrm.fit(trainDF10)\n",
    "    print(\"Saving Trained Model\")\n",
    "    model10.save(model_path12)\n",
    "    \n",
    "result10 = model10.transform(testDF)"
   ]
  },
  {
   "cell_type": "code",
   "execution_count": 27,
   "metadata": {
    "colab": {},
    "colab_type": "code",
    "id": "xuxdK7J0kR7D"
   },
   "outputs": [
    {
     "name": "stdout",
     "output_type": "stream",
     "text": [
      "LR-model Exist\n"
     ]
    }
   ],
   "source": [
    "model_path13 = \"models/lr-model11\"\n",
    "file13 = pathlib.Path(model_path13)\n",
    "if file13.exists():\n",
    "    print(\"LR-model Exist\")\n",
    "    model11 = LogisticRegressionModel.load(model_path13)\n",
    "else:\n",
    "    print(\"LR-model Doesnot Exist...Training Model\")\n",
    "    model11 = lrm.fit(trainDF11)\n",
    "    print(\"Saving Trained Model\")\n",
    "    model11.save(model_path13)\n",
    "    \n",
    "result11 = model11.transform(testDF)"
   ]
  },
  {
   "cell_type": "code",
   "execution_count": 28,
   "metadata": {
    "colab": {},
    "colab_type": "code",
    "id": "laCBLZlikR7H"
   },
   "outputs": [
    {
     "name": "stdout",
     "output_type": "stream",
     "text": [
      "LR-model Exist\n"
     ]
    }
   ],
   "source": [
    "model_path14 = \"models/lr-model12\"\n",
    "file14 = pathlib.Path(model_path14)\n",
    "if file14.exists():\n",
    "    print(\"LR-model Exist\")\n",
    "    model12 = LogisticRegressionModel.load(model_path14)\n",
    "else:\n",
    "    print(\"LR-model Doesnot Exist...Training Model\")\n",
    "    model12 = lrm.fit(trainDF12)\n",
    "    print(\"Saving Trained Model\")\n",
    "    model12.save(model_path14)\n",
    "    \n",
    "result12 = model12.transform(testDF)"
   ]
  },
  {
   "cell_type": "code",
   "execution_count": 29,
   "metadata": {
    "colab": {},
    "colab_type": "code",
    "id": "FXbe__fRkR7N"
   },
   "outputs": [
    {
     "name": "stdout",
     "output_type": "stream",
     "text": [
      "LR-model Exist\n"
     ]
    }
   ],
   "source": [
    "model_path15 = \"models/lr-model13\"\n",
    "file15 = pathlib.Path(model_path15)\n",
    "if file15.exists():\n",
    "    print(\"LR-model Exist\")\n",
    "    model13 = LogisticRegressionModel.load(model_path15)\n",
    "else:\n",
    "    print(\"LR-model Doesnot Exist...Training Model\")\n",
    "    model13 = lrm.fit(trainDF13)\n",
    "    print(\"Saving Trained Model\")\n",
    "    model13.save(model_path15)\n",
    "    \n",
    "result13 = model13.transform(testDF)"
   ]
  },
  {
   "cell_type": "code",
   "execution_count": 30,
   "metadata": {
    "colab": {},
    "colab_type": "code",
    "id": "5JGI5qJokR7R"
   },
   "outputs": [
    {
     "name": "stdout",
     "output_type": "stream",
     "text": [
      "LR-model Exist\n"
     ]
    }
   ],
   "source": [
    "model_path16 = \"models/lr-model14\"\n",
    "file16 = pathlib.Path(model_path16)\n",
    "if file16.exists():\n",
    "    print(\"LR-model Exist\")\n",
    "    model14 = LogisticRegressionModel.load(model_path16)\n",
    "else:\n",
    "    print(\"LR-model Doesnot Exist...Training Model\")\n",
    "    model14 = lrm.fit(trainDF14)\n",
    "    print(\"Saving Trained Model\")\n",
    "    model14.save(model_path16)\n",
    "    \n",
    "result14 = model14.transform(testDF)"
   ]
  },
  {
   "cell_type": "code",
   "execution_count": 31,
   "metadata": {
    "colab": {},
    "colab_type": "code",
    "id": "2k_lJ4r7kR7U"
   },
   "outputs": [
    {
     "name": "stdout",
     "output_type": "stream",
     "text": [
      "LR-model Exist\n"
     ]
    }
   ],
   "source": [
    "model_path17 = \"models/lr-model15\"\n",
    "file17 = pathlib.Path(model_path17)\n",
    "if file17.exists():\n",
    "    print(\"LR-model Exist\")\n",
    "    model15 = LogisticRegressionModel.load(model_path17)\n",
    "else:\n",
    "    print(\"LR-model Doesnot Exist...Training Model\")\n",
    "    model15 = lrm.fit(trainDF15)\n",
    "    print(\"Saving Trained Model\")\n",
    "    model15.save(model_path17)\n",
    "    \n",
    "result15 = model15.transform(testDF)"
   ]
  },
  {
   "cell_type": "code",
   "execution_count": 32,
   "metadata": {
    "colab": {},
    "colab_type": "code",
    "id": "d8O6qVKOkR7X"
   },
   "outputs": [
    {
     "name": "stdout",
     "output_type": "stream",
     "text": [
      "LR-model Exist\n"
     ]
    }
   ],
   "source": [
    "model_path18 = \"models/lr-model16\"\n",
    "file18 = pathlib.Path(model_path18)\n",
    "if file18.exists():\n",
    "    print(\"LR-model Exist\")\n",
    "    model16 = LogisticRegressionModel.load(model_path18)\n",
    "else:\n",
    "    print(\"LR-model Doesnot Exist...Training Model\")\n",
    "    model16 = lrm.fit(trainDF16)\n",
    "    print(\"Saving Trained Model\")\n",
    "    model16.save(model_path18)\n",
    "    \n",
    "result16 = model16.transform(testDF)"
   ]
  },
  {
   "cell_type": "code",
   "execution_count": 33,
   "metadata": {
    "colab": {},
    "colab_type": "code",
    "id": "GIeIXuoskR7a"
   },
   "outputs": [
    {
     "name": "stdout",
     "output_type": "stream",
     "text": [
      "LR-model Exist\n"
     ]
    }
   ],
   "source": [
    "model_path19 = \"models/lr-model17\"\n",
    "file19 = pathlib.Path(model_path19)\n",
    "if file19.exists():\n",
    "    print(\"LR-model Exist\")\n",
    "    model17 = LogisticRegressionModel.load(model_path19)\n",
    "else:\n",
    "    print(\"LR-model Doesnot Exist...Training Model\")\n",
    "    model17 = lrm.fit(trainDF17)\n",
    "    print(\"Saving Trained Model\")\n",
    "    model17.save(model_path19)\n",
    "    \n",
    "result17 = model17.transform(testDF)"
   ]
  },
  {
   "cell_type": "code",
   "execution_count": 34,
   "metadata": {
    "colab": {},
    "colab_type": "code",
    "id": "pfIy19cokR7e"
   },
   "outputs": [
    {
     "name": "stdout",
     "output_type": "stream",
     "text": [
      "LR-model Exist\n"
     ]
    }
   ],
   "source": [
    "model_path20 = \"models/lr-model18\"\n",
    "file20 = pathlib.Path(model_path20)\n",
    "if file20.exists():\n",
    "    print(\"LR-model Exist\")\n",
    "    model18 = LogisticRegressionModel.load(model_path20)\n",
    "else:\n",
    "    print(\"LR-model Doesnot Exist...Training Model\")\n",
    "    model18 = lrm.fit(trainDF18)\n",
    "    print(\"Saving Trained Model\")\n",
    "    model18.save(model_path20)\n",
    "    \n",
    "result18 = model18.transform(testDF)"
   ]
  },
  {
   "cell_type": "code",
   "execution_count": 35,
   "metadata": {
    "colab": {},
    "colab_type": "code",
    "id": "3upFQEvokR7h"
   },
   "outputs": [
    {
     "name": "stdout",
     "output_type": "stream",
     "text": [
      "LR-model Exist\n"
     ]
    }
   ],
   "source": [
    "model_path21 = \"models/lr-model19\"\n",
    "file21 = pathlib.Path(model_path21)\n",
    "if file21.exists():\n",
    "    print(\"LR-model Exist\")\n",
    "    model19 = LogisticRegressionModel.load(model_path21)\n",
    "else:\n",
    "    print(\"LR-model Doesnot Exist...Training Model\")\n",
    "    model19 = lrm.fit(trainDF19)\n",
    "    print(\"Saving Trained Model\")\n",
    "    model19.save(model_path21)\n",
    "    \n",
    "result19 = model19.transform(testDF)"
   ]
  },
  {
   "cell_type": "code",
   "execution_count": 36,
   "metadata": {
    "colab": {},
    "colab_type": "code",
    "id": "j6gsheHckR7m"
   },
   "outputs": [
    {
     "name": "stdout",
     "output_type": "stream",
     "text": [
      "LR-model Exist\n"
     ]
    }
   ],
   "source": [
    "model_path22 = \"models/lr-model20\"\n",
    "file22 = pathlib.Path(model_path22)\n",
    "if file22.exists():\n",
    "    print(\"LR-model Exist\")\n",
    "    model20 = LogisticRegressionModel.load(model_path22)\n",
    "else:\n",
    "    print(\"LR-model Doesnot Exist...Training Model\")\n",
    "    model20 = lrm.fit(trainDF20)\n",
    "    print(\"Saving Trained Model\")\n",
    "    model20.save(model_path22)\n",
    "    \n",
    "result20 = model20.transform(testDF)"
   ]
  },
  {
   "cell_type": "code",
   "execution_count": 37,
   "metadata": {
    "colab": {
     "base_uri": "https://localhost:8080/",
     "height": 119
    },
    "colab_type": "code",
    "id": "fHb8Muy4kR7s",
    "outputId": "53727530-2c9b-432b-b59d-1b2ef943bf36",
    "scrolled": true
   },
   "outputs": [
    {
     "name": "stdout",
     "output_type": "stream",
     "text": [
      "root\n",
      " |-- features: vector (nullable = true)\n",
      " |-- rawPrediction: vector (nullable = true)\n",
      " |-- probability: vector (nullable = true)\n",
      " |-- prediction1: double (nullable = false)\n",
      "\n"
     ]
    }
   ],
   "source": [
    "result1 = result1.withColumnRenamed(\"prediction\",\"prediction1\")\n",
    "result1.printSchema()\n",
    "result2 = result2.withColumnRenamed(\"prediction\",\"prediction2\")\n",
    "result3 = result3.withColumnRenamed(\"prediction\",\"prediction3\")\n",
    "result4 = result4.withColumnRenamed(\"prediction\",\"prediction4\")\n",
    "result5 = result5.withColumnRenamed(\"prediction\",\"prediction5\")\n",
    "result6 = result6.withColumnRenamed(\"prediction\",\"prediction6\")\n",
    "result7 = result7.withColumnRenamed(\"prediction\",\"prediction7\")\n",
    "result8 = result8.withColumnRenamed(\"prediction\",\"prediction8\")\n",
    "result9 = result9.withColumnRenamed(\"prediction\",\"prediction9\")\n",
    "result10 = result10.withColumnRenamed(\"prediction\",\"prediction10\")\n",
    "result11 = result11.withColumnRenamed(\"prediction\",\"prediction11\")\n",
    "result12 = result12.withColumnRenamed(\"prediction\",\"prediction12\")\n",
    "result13 = result13.withColumnRenamed(\"prediction\",\"prediction13\")\n",
    "result14 = result14.withColumnRenamed(\"prediction\",\"prediction14\")\n",
    "result15 = result15.withColumnRenamed(\"prediction\",\"prediction15\")\n",
    "result16 = result16.withColumnRenamed(\"prediction\",\"prediction16\")\n",
    "result17 = result17.withColumnRenamed(\"prediction\",\"prediction17\")\n",
    "result18 = result18.withColumnRenamed(\"prediction\",\"prediction18\")\n",
    "result19 = result19.withColumnRenamed(\"prediction\",\"prediction19\")\n",
    "result20 = result20.withColumnRenamed(\"prediction\",\"prediction20\")"
   ]
  },
  {
   "cell_type": "code",
   "execution_count": 38,
   "metadata": {
    "colab": {},
    "colab_type": "code",
    "id": "f9_LaMoqkR7u"
   },
   "outputs": [],
   "source": [
    "t = result1.join(result2,on = ['features'],how = 'inner').select(\"features\",\"prediction1\",\"prediction2\")\n",
    "t = t.dropDuplicates(['features'])\n",
    "\n",
    "t = t.join(result3,on = ['features'],how = 'inner').select(\"features\",\"prediction1\",\"prediction2\",\"prediction3\")\n",
    "t = t.dropDuplicates(['features'])\n",
    "\n",
    "t = t.join(result4,on = ['features'],how = 'inner').select(\"features\",\"prediction1\",\"prediction2\",\"prediction3\",\"prediction4\")\n",
    "t = t.dropDuplicates(['features'])\n",
    "\n",
    "t = t.join(result5,on = ['features'],how = 'inner').select(\"features\",\"prediction1\",\"prediction2\",\"prediction3\",\"prediction4\",\"prediction5\")\n",
    "t = t.dropDuplicates(['features'])\n",
    "\n",
    "t = t.join(result6,on = ['features'],how = 'inner').select(\"features\",\"prediction1\",\"prediction2\",\"prediction3\",\"prediction4\",\"prediction5\",\"prediction6\")\n",
    "t = t.dropDuplicates(['features'])\n",
    "\n",
    "t = t.join(result7,on = ['features'],how = 'inner').select(\"features\",\"prediction1\",\"prediction2\",\"prediction3\",\"prediction4\",\"prediction5\",\"prediction6\",\"prediction7\")\n",
    "t = t.dropDuplicates(['features'])\n",
    "\n",
    "t = t.join(result8,on = ['features'],how = 'inner').select(\"features\",\"prediction1\",\"prediction2\",\"prediction3\",\"prediction4\",\"prediction5\",\"prediction6\",\"prediction7\",\"prediction8\")\n",
    "t = t.dropDuplicates(['features'])\n",
    "\n",
    "t = t.join(result9,on = ['features'],how = 'inner').select(\"features\",\"prediction1\",\"prediction2\",\"prediction3\",\"prediction4\",\"prediction5\",\"prediction6\",\"prediction7\",\"prediction8\",\"prediction9\")\n",
    "t = t.dropDuplicates(['features'])\n",
    "\n",
    "t = t.join(result10,on = ['features'],how = 'inner')\n",
    "t = t.dropDuplicates(['features'])\n",
    "\n",
    "t = t.join(result11,on = ['features'],how = 'inner')\n",
    "t = t.dropDuplicates(['features'])\n",
    "\n",
    "t = t.join(result12,on = ['features'],how = 'inner')\n",
    "t = t.dropDuplicates(['features'])\n",
    "\n",
    "t = t.join(result13,on = ['features'],how = 'inner')\n",
    "t = t.dropDuplicates(['features'])\n",
    "\n",
    "t = t.join(result14,on = ['features'],how = 'inner')\n",
    "t = t.dropDuplicates(['features'])\n",
    "\n",
    "t = t.join(result15,on = ['features'],how = 'inner')\n",
    "t = t.dropDuplicates(['features'])\n",
    "\n",
    "t = t.join(result16,on = ['features'],how = 'inner')\n",
    "t = t.dropDuplicates(['features'])\n",
    "\n",
    "t = t.join(result17,on = ['features'],how = 'inner')\n",
    "t = t.dropDuplicates(['features'])\n",
    "\n",
    "t = t.join(result18,on = ['features'],how = 'inner')\n",
    "t = t.dropDuplicates(['features'])\n",
    "\n",
    "t = t.join(result19,on = ['features'],how = 'inner')\n",
    "t = t.dropDuplicates(['features'])\n",
    "\n",
    "t = t.join(result20,on = ['features'],how = 'inner').select(\"features\",\"prediction1\",\"prediction2\",\"prediction3\",\"prediction4\",\"prediction5\",\"prediction6\",\"prediction7\",\"prediction8\",\"prediction9\",\"prediction10\",\"prediction11\",\"prediction12\",\"prediction13\",\"prediction14\",\"prediction15\",\"prediction16\",\"prediction17\",\"prediction18\",\"prediction19\",\"prediction20\")\n",
    "t = t.dropDuplicates(['features'])\n"
   ]
  },
  {
   "cell_type": "code",
   "execution_count": 39,
   "metadata": {
    "colab": {
     "base_uri": "https://localhost:8080/",
     "height": 187
    },
    "colab_type": "code",
    "id": "WrH1h6WzsIbr",
    "outputId": "a9bb2bc4-f577-474e-bb58-7526ba2da43f"
   },
   "outputs": [
    {
     "name": "stdout",
     "output_type": "stream",
     "text": [
      "root\n",
      " |-- movie_id: long (nullable = true)\n",
      " |-- movie_name: string (nullable = true)\n",
      " |-- plot: string (nullable = true)\n",
      " |-- words_token: array (nullable = true)\n",
      " |    |-- element: string (containsNull = true)\n",
      " |-- words_clean: array (nullable = true)\n",
      " |    |-- element: string (containsNull = true)\n",
      " |-- features: vector (nullable = true)\n",
      "\n"
     ]
    }
   ],
   "source": [
    "test_rescaledData.printSchema()\n",
    "test_rescaledData_final = test_rescaledData.select(\"movie_id\",\"features\")\n",
    "t = t.join(test_rescaledData_final,on = ['features'],how = 'inner')\n",
    "t = t.dropDuplicates(['movie_id'])\n",
    "#t.show(5)"
   ]
  },
  {
   "cell_type": "code",
   "execution_count": 40,
   "metadata": {
    "colab": {},
    "colab_type": "code",
    "id": "x7ccohAQkR7z"
   },
   "outputs": [],
   "source": [
    "from pyspark.sql.functions import udf\n",
    "from pyspark.sql.types import *\n",
    "import math\n",
    "\n",
    "def makingLabelsForLabelx(val1,val2,val3,val4,val5,val6,val7,val8,val9,val10,val11,val12,val13,val14,val15,val16,val17,val18,val19,val20):\n",
    "    val1 = str(math.floor(val1))\n",
    "    val2 = str(math.floor(val2))\n",
    "    val3 = str(math.floor(val3))\n",
    "    val4 = str(math.floor(val4))\n",
    "    val5 = str(math.floor(val5))\n",
    "    val6 = str(math.floor(val6))\n",
    "    val7 = str(math.floor(val7))\n",
    "    val8 = str(math.floor(val8))\n",
    "    val9 = str(math.floor(val9))\n",
    "    val10 = str(math.floor(val10))\n",
    "    val11 = str(math.floor(val11))\n",
    "    val12 = str(math.floor(val12))\n",
    "    val13 = str(math.floor(val13))\n",
    "    val14 = str(math.floor(val14))\n",
    "    val15 = str(math.floor(val15))\n",
    "    val16 = str(math.floor(val16))\n",
    "    val17 = str(math.floor(val17))\n",
    "    val18 = str(math.floor(val18))\n",
    "    val19 = str(math.floor(val19))\n",
    "    val20 = str(math.floor(val20))\n",
    "    return val1+\" \"+ val2+ \" \"+val3+ \" \"+ val4+ \" \"+ val5+ \" \"+ val6+ \" \"+ val7+ \" \"+val8 + \" \"+ val9+ \" \"+ val10+ \" \"+ val11+ \" \"+ val12+ \" \"+ val13+ \" \"+ val14+ \" \"+ val15+ \" \"+ val16+ \" \"+ val17+ \" \"+ val18+ \" \"+ val19+ \" \"+ val20\n",
    "\n",
    "labeling = udf(makingLabelsForLabelx, StringType())\n",
    "df_pred = t.withColumn(\"predictions\", labeling(\"prediction1\",\"prediction2\",\"prediction3\",\"prediction4\",\"prediction5\",\"prediction6\",\"prediction7\",\"prediction8\",\"prediction9\",\"prediction10\",\"prediction11\",\"prediction12\",\"prediction13\",\"prediction14\",\"prediction15\",\"prediction16\",\"prediction17\",\"prediction18\",\"prediction19\",\"prediction20\"))"
   ]
  },
  {
   "cell_type": "code",
   "execution_count": 41,
   "metadata": {
    "colab": {},
    "colab_type": "code",
    "id": "KVwCKlLEkR71"
   },
   "outputs": [],
   "source": [
    "df_final = df_pred.select(\"movie_id\",\"predictions\")"
   ]
  },
  {
   "cell_type": "code",
   "execution_count": 42,
   "metadata": {},
   "outputs": [
    {
     "name": "stdout",
     "output_type": "stream",
     "text": [
      "+--------+--------------------+\n",
      "|movie_id|         predictions|\n",
      "+--------+--------------------+\n",
      "|23863620|1 0 0 1 0 0 0 0 0...|\n",
      "|   62693|1 0 0 0 0 0 0 0 0...|\n",
      "|24817139|1 0 0 0 0 0 0 0 0...|\n",
      "|13333148|0 1 1 0 0 0 0 0 1...|\n",
      "| 8269287|1 0 0 0 0 0 0 0 0...|\n",
      "| 2268290|1 0 0 1 0 0 0 1 0...|\n",
      "| 4950989|0 0 0 0 0 0 0 0 0...|\n",
      "|33280938|1 0 1 0 0 0 0 0 0...|\n",
      "| 1582173|1 0 0 0 0 0 0 1 0...|\n",
      "| 1595142|0 0 0 0 0 0 0 0 0...|\n",
      "|27996231|0 0 0 0 0 0 0 0 0...|\n",
      "|11272068|1 0 0 0 0 0 0 0 0...|\n",
      "|22822894|0 1 0 0 0 0 0 0 0...|\n",
      "|28679286|0 0 0 0 0 0 0 1 0...|\n",
      "|24003057|1 0 0 0 0 0 0 0 0...|\n",
      "| 1356971|0 1 1 0 0 0 0 0 0...|\n",
      "|36344884|1 0 0 0 0 0 0 0 0...|\n",
      "|23658166|0 0 0 0 0 0 0 0 0...|\n",
      "| 1600825|0 0 0 0 0 0 0 0 0...|\n",
      "|27858537|0 1 0 0 0 0 0 0 0...|\n",
      "+--------+--------------------+\n",
      "only showing top 20 rows\n",
      "\n"
     ]
    }
   ],
   "source": [
    "df_final.show()"
   ]
  },
  {
   "cell_type": "code",
   "execution_count": 43,
   "metadata": {
    "colab": {},
    "colab_type": "code",
    "id": "X0PV7lm0kR72"
   },
   "outputs": [],
   "source": [
    "df_final.repartition(1).write.format(\"com.databricks.spark.csv\").option(\"header\", \"true\").save(\"results_task1\")"
   ]
  },
  {
   "cell_type": "code",
   "execution_count": 44,
   "metadata": {
    "colab": {
     "base_uri": "https://localhost:8080/",
     "height": 34
    },
    "colab_type": "code",
    "id": "kDwWWv08kR73",
    "outputId": "bfb44301-231e-437f-8ce8-1b5e81a6ae9c"
   },
   "outputs": [
    {
     "data": {
      "text/plain": [
       "7777"
      ]
     },
     "execution_count": 44,
     "metadata": {},
     "output_type": "execute_result"
    }
   ],
   "source": [
    "df_final.count()"
   ]
  }
 ],
 "metadata": {
  "accelerator": "GPU",
  "colab": {
   "name": "RDS_Task1_95689_modeled.ipynb",
   "provenance": []
  },
  "kernelspec": {
   "display_name": "Python 3",
   "language": "python",
   "name": "python3"
  },
  "language_info": {
   "codemirror_mode": {
    "name": "ipython",
    "version": 3
   },
   "file_extension": ".py",
   "mimetype": "text/x-python",
   "name": "python",
   "nbconvert_exporter": "python",
   "pygments_lexer": "ipython3",
   "version": "3.6.7"
  }
 },
 "nbformat": 4,
 "nbformat_minor": 1
}
